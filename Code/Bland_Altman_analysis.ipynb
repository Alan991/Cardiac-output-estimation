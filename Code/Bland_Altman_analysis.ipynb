{
 "cells": [
  {
   "cell_type": "code",
   "execution_count": null,
   "metadata": {},
   "outputs": [],
   "source": [
    "from pyCompare import blandAltman\n",
    "\n",
    "blandAltman(y_tested, y_predicted,\n",
    "            limitOfAgreement=1.96,\n",
    "            confidenceInterval=95,\n",
    "            confidenceIntervalMethod='approximate',\n",
    "            detrend=None,\n",
    "            title= \"Bland-Altman analysis re-evaluation\" ,\n",
    "            percentage=False)\n",
    "plt.savefig('ridge_PE_1_CC.png')\n",
    "diff = (y_tested - y_predicted)\n",
    "mean = (y_tested - y_predicted)/2\n",
    "std_diff = np.std(diff)\n",
    "LOA_upper = np.mean(diff) - 1.96*std_diff\n",
    "loa = LOA_upper\n",
    "bias = np.mean(diff)\n",
    "pe = ((1.96*std_diff)/np.mean(y_tested))*100\n",
    "print(loa)\n",
    "print(bias)\n",
    "print(pe)"
   ]
  }
 ],
 "metadata": {
  "language_info": {
   "name": "python"
  },
  "orig_nbformat": 4
 },
 "nbformat": 4,
 "nbformat_minor": 2
}
