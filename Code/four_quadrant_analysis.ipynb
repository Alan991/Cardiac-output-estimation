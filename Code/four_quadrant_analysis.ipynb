{
 "cells": [
  {
   "cell_type": "code",
   "execution_count": null,
   "metadata": {},
   "outputs": [],
   "source": [
    "diff_y_tested = np.diff(y_tested)\n",
    "diff_y_predicted = np.diff(y_predicted)\n",
    "\n",
    "# diff_y_tested = [1,2,4,4.5,3,-5,-6,0]\n",
    "# diff_y_predicted = [1,2,4,4.5,3,-5,-6,4]\n",
    "\n",
    "df_CC = pd.DataFrame(diff_y_tested, columns=['tested'])\n",
    "df_CC['predicted'] = diff_y_predicted\n",
    "\n",
    "x1 = 0.5\n",
    "x2 = -0.5\n",
    "y1 = 0.5\n",
    "y2 = -0.5\n",
    "\n",
    "plt.scatter(diff_y_tested, diff_y_predicted, color = 'blue', alpha=0.8, s = 10)\n",
    "\n",
    "plt.axvspan(-0.5, 0.5, alpha=0.1, color='violet')\n",
    "plt.fill_betweenx([y1, y2], -10, 10, color='violet', alpha=0.1)\n",
    "plt.fill_betweenx([y1, y2], x1, x2, color='violet', alpha=1)\n",
    "\n",
    "plt.axvline(x=0)\n",
    "plt.axhline(y=0)\n",
    "plt.plot( [-7,7],[-7,7] )\n",
    "plt.xlabel('Changes in reference method')\n",
    "plt.ylabel('Changes in proposed method')\n",
    "plt.title('concordance rate in four-quadrant plot')\n",
    "\n",
    "plt.xlim(-10,10)\n",
    "\n",
    "plt.grid(True)\n",
    "#plt.savefig('DT_CR_1_CC.png')\n"
   ]
  }
 ],
 "metadata": {
  "language_info": {
   "name": "python"
  },
  "orig_nbformat": 4
 },
 "nbformat": 4,
 "nbformat_minor": 2
}
